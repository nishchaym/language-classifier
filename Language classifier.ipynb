{
 "cells": [
  {
   "cell_type": "markdown",
   "metadata": {
    "ExecuteTime": {
     "end_time": "2020-02-19T11:23:20.365409Z",
     "start_time": "2020-02-19T11:23:20.354206Z"
    }
   },
   "source": [
    "# Language Classification with Naive Bayes in Python\n",
    "* Classifier based on naive bayes\n",
    "* Classify 3 languages English,Slovak and Czech\n",
    "\n",
    "\n",
    "\n",
    "\n",
    "\n"
   ]
  },
  {
   "cell_type": "code",
   "execution_count": 71,
   "metadata": {},
   "outputs": [],
   "source": [
    "import matplotlib\n",
    "import matplotlib.pyplot as plt\n",
    "plt.style.use('ggplot')\n",
    "import numpy as np\n",
    "import string\n",
    "from collections import defaultdict\n",
    "from sklearn.metrics import f1_score\n",
    "from sklearn.naive_bayes import MultinomialNB\n",
    "from sklearn.feature_extraction.text import CountVectorizer\n",
    "import joblib\n",
    "import pickle as pkl\n",
    "from helper_code import *"
   ]
  },
  {
   "cell_type": "markdown",
   "metadata": {},
   "source": [
    "<a id=''></a>\n",
    "# Data Exploration and Visualization"
   ]
  },
  {
   "cell_type": "code",
   "execution_count": 18,
   "metadata": {
    "ExecuteTime": {
     "end_time": "2020-02-19T11:23:20.494486Z",
     "start_time": "2020-02-19T11:23:20.491600Z"
    }
   },
   "outputs": [],
   "source": [
    "#Fuction to load data\n",
    "def open_file(filename):\n",
    "    with open(filename, 'r') as f:\n",
    "        data = f.readlines()\n",
    "    return data"
   ]
  },
  {
   "cell_type": "code",
   "execution_count": 19,
   "metadata": {
    "ExecuteTime": {
     "end_time": "2020-02-19T11:23:20.654712Z",
     "start_time": "2020-02-19T11:23:20.651474Z"
    }
   },
   "outputs": [],
   "source": [
    "data_raw = dict()\n",
    "data_raw['sk'] = open_file('Data/Sentences/train_sentences.sk')\n",
    "data_raw['cs'] = open_file('Data/Sentences/train_sentences.cs')\n",
    "data_raw['en'] = open_file('Data/Sentences/train_sentences.en')"
   ]
  },
  {
   "cell_type": "code",
   "execution_count": 20,
   "metadata": {},
   "outputs": [],
   "source": [
    "#Function to show data stats\n",
    "def show_statistics(data):\n",
    "    for language, sentences in data.items():\n",
    "        \n",
    "        number_of_sentences = 0\n",
    "        number_of_words = 0\n",
    "        number_of_unique_words = 0\n",
    "        sample_extract = ''\n",
    "        \n",
    "        word_list = ' '.join(sentences).split()\n",
    "        \n",
    "        number_of_sentences = len(sentences)\n",
    "        number_of_words = len(word_list)\n",
    "        number_of_unique_words = len(set(word_list))\n",
    "        sample_extract = ' '.join(sentences[0].split()[0:7])\n",
    "        \n",
    "        \n",
    "        print(f'Language: {language}')\n",
    "        print('-----------------------')\n",
    "        print(f'Number of sentences\\t:\\t {number_of_sentences}')\n",
    "        print(f'Number of words\\t\\t:\\t {number_of_words}')\n",
    "        print(f'Number of unique words\\t:\\t {number_of_unique_words}')\n",
    "        print(f'Sample extract\\t\\t:\\t {sample_extract}...\\n')"
   ]
  },
  {
   "cell_type": "code",
   "execution_count": 21,
   "metadata": {},
   "outputs": [
    {
     "name": "stdout",
     "output_type": "stream",
     "text": [
      "Language: sk\n",
      "-----------------------\n",
      "Number of sentences\t:\t 100\n",
      "Number of words\t\t:\t 2016\n",
      "Number of unique words\t:\t 1322\n",
      "Sample extract\t\t:\t Pán de Grandes Pascual jasne vysvetlil, aká...\n",
      "\n",
      "Language: cs\n",
      "-----------------------\n",
      "Number of sentences\t:\t 10\n",
      "Number of words\t\t:\t 158\n",
      "Number of unique words\t:\t 141\n",
      "Sample extract\t\t:\t Upozorňujeme, že jejím cílem je šetřit penězi...\n",
      "\n",
      "Language: en\n",
      "-----------------------\n",
      "Number of sentences\t:\t 100\n",
      "Number of words\t\t:\t 2381\n",
      "Number of unique words\t:\t 1037\n",
      "Sample extract\t\t:\t I can understand your approach a little...\n",
      "\n"
     ]
    }
   ],
   "source": [
    "show_statistics(data_raw)"
   ]
  },
  {
   "cell_type": "markdown",
   "metadata": {},
   "source": [
    "<a id='task2'></a>\n",
    "# Data Cleaning and Preprocessing"
   ]
  },
  {
   "cell_type": "code",
   "execution_count": 22,
   "metadata": {
    "ExecuteTime": {
     "end_time": "2020-02-19T11:23:21.346649Z",
     "start_time": "2020-02-19T11:23:21.343250Z"
    }
   },
   "outputs": [],
   "source": [
    "'''\n",
    "Removes punctuation and digits from a string, and converts all characters to lowercase. \n",
    "Also clears all \\n and hyphens (splits hyphenated words into two words).\n",
    "'''  \n",
    "def preprocess(text):  \n",
    "    preprocessed_text = text  \n",
    "    preprocessed_text = text.lower().replace('-', ' ')\n",
    "    translation_table = str.maketrans('\\n', ' ', string.punctuation+string.digits)\n",
    "    preprocessed_text = preprocessed_text.translate(translation_table)\n",
    "    return preprocessed_text"
   ]
  },
  {
   "cell_type": "code",
   "execution_count": 23,
   "metadata": {},
   "outputs": [],
   "source": [
    "data_preprocessed = {k: [preprocess(sentence) for sentence in v] for k, v in data_raw.items()}"
   ]
  },
  {
   "cell_type": "code",
   "execution_count": 24,
   "metadata": {},
   "outputs": [
    {
     "name": "stdout",
     "output_type": "stream",
     "text": [
      "\n",
      "Preprocessed data\n",
      "Language: sk\n",
      "-----------------------\n",
      "Number of sentences\t:\t 100\n",
      "Number of words\t\t:\t 1996\n",
      "Number of unique words\t:\t 1207\n",
      "Sample extract\t\t:\t pán de grandes pascual jasne vysvetlil aká...\n",
      "\n",
      "Language: cs\n",
      "-----------------------\n",
      "Number of sentences\t:\t 10\n",
      "Number of words\t\t:\t 155\n",
      "Number of unique words\t:\t 133\n",
      "Sample extract\t\t:\t upozorňujeme že jejím cílem je šetřit penězi...\n",
      "\n",
      "Language: en\n",
      "-----------------------\n",
      "Number of sentences\t:\t 100\n",
      "Number of words\t\t:\t 2366\n",
      "Number of unique words\t:\t 904\n",
      "Sample extract\t\t:\t i can understand your approach a little...\n",
      "\n"
     ]
    }
   ],
   "source": [
    "print('\\nPreprocessed data')\n",
    "show_statistics(data_preprocessed)"
   ]
  },
  {
   "cell_type": "markdown",
   "metadata": {},
   "source": [
    "<a id='task3'></a>\n",
    "# Using Naive Bayes Model"
   ]
  },
  {
   "cell_type": "markdown",
   "metadata": {},
   "source": [
    "## Vectorizing Training Data"
   ]
  },
  {
   "cell_type": "code",
   "execution_count": 25,
   "metadata": {
    "ExecuteTime": {
     "end_time": "2020-02-19T11:23:22.635948Z",
     "start_time": "2020-02-19T11:23:22.631151Z"
    }
   },
   "outputs": [],
   "source": [
    "sentences_train,y_train = [],[]\n",
    "for k,v in data_preprocessed.items():\n",
    "    for sentence in v:\n",
    "        sentences_train.append(sentence)\n",
    "        y_train.append(k)"
   ]
  },
  {
   "cell_type": "code",
   "execution_count": 26,
   "metadata": {
    "ExecuteTime": {
     "end_time": "2020-02-19T11:23:22.909139Z",
     "start_time": "2020-02-19T11:23:22.907106Z"
    }
   },
   "outputs": [],
   "source": [
    "vectorizer = CountVectorizer()"
   ]
  },
  {
   "cell_type": "code",
   "execution_count": 27,
   "metadata": {
    "ExecuteTime": {
     "end_time": "2020-02-19T11:23:23.077339Z",
     "start_time": "2020-02-19T11:23:23.067991Z"
    }
   },
   "outputs": [],
   "source": [
    "x_train=vectorizer.fit_transform(sentences_train)"
   ]
  },
  {
   "cell_type": "markdown",
   "metadata": {},
   "source": [
    "## Initializing Model Parameters and Training"
   ]
  },
  {
   "cell_type": "code",
   "execution_count": 28,
   "metadata": {
    "ExecuteTime": {
     "end_time": "2020-02-19T11:23:23.489747Z",
     "start_time": "2020-02-19T11:23:23.485139Z"
    }
   },
   "outputs": [
    {
     "data": {
      "text/plain": [
       "MultinomialNB()"
      ]
     },
     "execution_count": 28,
     "metadata": {},
     "output_type": "execute_result"
    }
   ],
   "source": [
    "naive_classifier = MultinomialNB()\n",
    "naive_classifier.fit(x_train,y_train)"
   ]
  },
  {
   "cell_type": "markdown",
   "metadata": {},
   "source": [
    "## Vectorizing Validation Data and Evaluating Model"
   ]
  },
  {
   "cell_type": "code",
   "execution_count": 29,
   "metadata": {
    "ExecuteTime": {
     "end_time": "2020-02-19T11:23:23.636788Z",
     "start_time": "2020-02-19T11:23:23.621292Z"
    }
   },
   "outputs": [],
   "source": [
    "data_val = dict()\n",
    "data_val['sk'] = open_file('Data/Sentences/val_sentences.sk')\n",
    "data_val['cs'] = open_file('Data/Sentences/val_sentences.cs')\n",
    "data_val['en'] = open_file('Data/Sentences/val_sentences.en')\n",
    "\n",
    "data_val_preprocessed = {k: [preprocess(sentence) for sentence in v ] for k, v in data_val.items()} \n"
   ]
  },
  {
   "cell_type": "code",
   "execution_count": 30,
   "metadata": {
    "ExecuteTime": {
     "end_time": "2020-02-19T11:23:23.934515Z",
     "start_time": "2020-02-19T11:23:23.759224Z"
    }
   },
   "outputs": [],
   "source": [
    "sentences_val, y_val = [], []\n",
    "for k, v in data_val_preprocessed.items():\n",
    "    for sentence in v:\n",
    "        sentences_val.append(sentence)\n",
    "        y_val.append(k)"
   ]
  },
  {
   "cell_type": "code",
   "execution_count": 31,
   "metadata": {
    "ExecuteTime": {
     "end_time": "2020-02-19T11:23:24.185184Z",
     "start_time": "2020-02-19T11:23:23.936169Z"
    }
   },
   "outputs": [],
   "source": [
    "x_val= vectorizer.transform(sentences_val)"
   ]
  },
  {
   "cell_type": "code",
   "execution_count": 32,
   "metadata": {
    "ExecuteTime": {
     "end_time": "2020-02-19T11:23:24.190168Z",
     "start_time": "2020-02-19T11:23:24.187055Z"
    }
   },
   "outputs": [],
   "source": [
    "predictions = naive_classifier.predict(x_val)"
   ]
  },
  {
   "cell_type": "code",
   "execution_count": 33,
   "metadata": {
    "ExecuteTime": {
     "end_time": "2020-02-19T11:23:24.195726Z",
     "start_time": "2020-02-19T11:23:24.191814Z"
    }
   },
   "outputs": [
    {
     "data": {
      "image/png": "[encoded data removed]",
      "text/plain": [
       "<Figure size 360x360 with 2 Axes>"
      ]
     },
     "metadata": {
      "needs_background": "light"
     },
     "output_type": "display_data"
    }
   ],
   "source": [
    "plot_confusion_matrix(y_val, predictions, ['sk', 'cs', 'en'])"
   ]
  },
  {
   "cell_type": "code",
   "execution_count": 34,
   "metadata": {},
   "outputs": [
    {
     "data": {
      "text/plain": [
       "0.6149824401040264"
      ]
     },
     "execution_count": 34,
     "metadata": {},
     "output_type": "execute_result"
    }
   ],
   "source": [
    "f1_score(y_val,predictions,average='weighted')"
   ]
  },
  {
   "cell_type": "markdown",
   "metadata": {},
   "source": [
    "<a id='task4'></a>\n",
    "# Adjusting Hyperparameters"
   ]
  },
  {
   "cell_type": "code",
   "execution_count": 35,
   "metadata": {
    "ExecuteTime": {
     "end_time": "2020-02-19T11:30:37.132532Z",
     "start_time": "2020-02-19T11:30:36.951960Z"
    }
   },
   "outputs": [
    {
     "data": {
      "image/png": "[encoded data removed]",
      "text/plain": [
       "<Figure size 360x360 with 2 Axes>"
      ]
     },
     "metadata": {
      "needs_background": "light"
     },
     "output_type": "display_data"
    }
   ],
   "source": [
    "naive_classifier = MultinomialNB(alpha=0.04, fit_prior=False)\n",
    "naive_classifier.fit(x_train,y_train)\n",
    "\n",
    "predictions = naive_classifier.predict(x_val)\n",
    "\n",
    "plot_confusion_matrix(y_val,predictions, ['sk','cs','en'])"
   ]
  },
  {
   "cell_type": "code",
   "execution_count": 36,
   "metadata": {},
   "outputs": [
    {
     "data": {
      "text/plain": [
       "0.88060393899013"
      ]
     },
     "execution_count": 36,
     "metadata": {},
     "output_type": "execute_result"
    }
   ],
   "source": [
    "f1_score(y_val,predictions,average='weighted')"
   ]
  },
  {
   "cell_type": "markdown",
   "metadata": {},
   "source": [
    "# Saving th model"
   ]
  },
  {
   "cell_type": "code",
   "execution_count": 37,
   "metadata": {},
   "outputs": [
    {
     "data": {
      "text/plain": [
       "['Data/Vectorizers/final_model.joblib']"
      ]
     },
     "execution_count": 37,
     "metadata": {},
     "output_type": "execute_result"
    }
   ],
   "source": [
    "joblib.dump(naive_classifier, 'Data/Models/final_model.joblib')\n",
    "joblib.dump(vectorizer, 'Data/Vectorizers/final_model.joblib')\n"
   ]
  },
  {
   "cell_type": "markdown",
   "metadata": {},
   "source": [
    "<a id='task4'></a>\n",
    "# Hosted using streamlit "
   ]
  },
  {
   "cell_type": "code",
   "execution_count": null,
   "metadata": {},
   "outputs": [],
   "source": []
  }
 ],
 "metadata": {
  "kernelspec": {
   "display_name": "Python 3",
   "language": "python",
   "name": "python3"
  },
  "language_info": {
   "codemirror_mode": {
    "name": "ipython",
    "version": 3
   },
   "file_extension": ".py",
   "mimetype": "text/x-python",
   "name": "python",
   "nbconvert_exporter": "python",
   "pygments_lexer": "ipython3",
   "version": "3.7.3"
  }
 },
 "nbformat": 4,
 "nbformat_minor": 4
}
